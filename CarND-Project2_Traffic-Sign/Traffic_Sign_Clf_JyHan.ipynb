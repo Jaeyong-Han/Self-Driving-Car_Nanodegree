{
 "cells": [
  {
   "cell_type": "markdown",
   "metadata": {
    "deletable": true,
    "editable": true
   },
   "source": [
    "# Self-Driving Car Engineer Nanodegree\n",
    "\n",
    "## Deep Learning\n",
    "\n",
    "## Project: Build a Traffic Sign Recognition Classifier\n",
    "\n",
    "In this notebook, a template is provided for you to implement your functionality in stages which is required to successfully complete this project. If additional code is required that cannot be included in the notebook, be sure that the Python code is successfully imported and included in your submission, if necessary. Sections that begin with **'Implementation'** in the header indicate where you should begin your implementation for your project. Note that some sections of implementation are optional, and will be marked with **'Optional'** in the header.\n",
    "\n",
    "In addition to implementing code, there will be questions that you must answer which relate to the project and your implementation. Each section where you will answer a question is preceded by a **'Question'** header. Carefully read each question and provide thorough answers in the following text boxes that begin with **'Answer:'**. Your project submission will be evaluated based on your answers to each of the questions and the implementation you provide.\n",
    "\n",
    ">**Note:** Code and Markdown cells can be executed using the **Shift + Enter** keyboard shortcut. In addition, Markdown cells can be edited by typically double-clicking the cell to enter edit mode."
   ]
  },
  {
   "cell_type": "markdown",
   "metadata": {
    "deletable": true,
    "editable": true
   },
   "source": [
    "---\n",
    "## Step 0: Load The Data"
   ]
  },
  {
   "cell_type": "code",
   "execution_count": 1,
   "metadata": {
    "collapsed": true,
    "deletable": true,
    "editable": true
   },
   "outputs": [],
   "source": [
    "# Load pickled data\n",
    "import pickle\n",
    "\n",
    "# Load train and Test data file\n",
    "training_file = 'train.p'\n",
    "testing_file = 'test.p'\n",
    "\n",
    "with open(training_file, mode='rb') as f:\n",
    "    train = pickle.load(f)\n",
    "with open(testing_file, mode='rb') as f:\n",
    "    test = pickle.load(f)\n",
    "    \n",
    "# Assign X and y from data files\n",
    "X_train, y_train = train['features'], train['labels']\n",
    "X_test, y_test = test['features'], test['labels']"
   ]
  },
  {
   "cell_type": "markdown",
   "metadata": {
    "deletable": true,
    "editable": true
   },
   "source": [
    "---\n",
    "\n",
    "## Step 1: Dataset Summary & Exploration\n",
    "\n",
    "The pickled data is a dictionary with 4 key/value pairs:\n",
    "\n",
    "- `'features'` is a 4D array containing raw pixel data of the traffic sign images, (num examples, width, height, channels).\n",
    "- `'labels'` is a 2D array containing the label/class id of the traffic sign. The file `signnames.csv` contains id -> name mappings for each id.\n",
    "- `'sizes'` is a list containing tuples, (width, height) representing the the original width and height the image.\n",
    "- `'coords'` is a list containing tuples, (x1, y1, x2, y2) representing coordinates of a bounding box around the sign in the image. **THESE COORDINATES ASSUME THE ORIGINAL IMAGE. THE PICKLED DATA CONTAINS RESIZED VERSIONS (32 by 32) OF THESE IMAGES**\n",
    "\n",
    "Complete the basic data summary below."
   ]
  },
  {
   "cell_type": "code",
   "execution_count": 2,
   "metadata": {
    "collapsed": false,
    "deletable": true,
    "editable": true
   },
   "outputs": [
    {
     "name": "stdout",
     "output_type": "stream",
     "text": [
      "Number of training examples = 39209\n",
      "Number of testing examples = 12630\n",
      "Image data shape = (32, 32, 3)\n",
      "Number of classes = 43\n"
     ]
    }
   ],
   "source": [
    "# Number of training examples\n",
    "n_train = y_train.shape[0]\n",
    "\n",
    "# Number of testing examples.\n",
    "n_test = y_test.shape[0]\n",
    "\n",
    "# What's the shape of an traffic sign image?\n",
    "image_shape = X_train[0].shape\n",
    "\n",
    "# How many unique classes/labels there are in the dataset.=\n",
    "n_classes = len(set(y_train))\n",
    "\n",
    "print(\"Number of training examples =\", n_train)\n",
    "print(\"Number of testing examples =\", n_test)\n",
    "print(\"Image data shape =\", image_shape)\n",
    "print(\"Number of classes =\", n_classes)"
   ]
  },
  {
   "cell_type": "markdown",
   "metadata": {
    "deletable": true,
    "editable": true
   },
   "source": [
    "Visualize the German Traffic Signs Dataset using the pickled file(s). This is open ended, suggestions include: plotting traffic sign images, plotting the count of each sign, etc.\n",
    "\n",
    "The [Matplotlib](http://matplotlib.org/) [examples](http://matplotlib.org/examples/index.html) and [gallery](http://matplotlib.org/gallery.html) pages are a great resource for doing visualizations in Python.\n",
    "\n",
    "**NOTE:** It's recommended you start with something simple first. If you wish to do more, come back to it after you've completed the rest of the sections."
   ]
  },
  {
   "cell_type": "code",
   "execution_count": 3,
   "metadata": {
    "collapsed": false,
    "deletable": true,
    "editable": true
   },
   "outputs": [
    {
     "name": "stdout",
     "output_type": "stream",
     "text": [
      "(32, 32, 3)\n",
      "8\n"
     ]
    },
    {
     "data": {
      "image/png": "[encoded data removed]",
      "text/plain": [
       "<matplotlib.figure.Figure at 0x7fd600366da0>"
      ]
     },
     "metadata": {},
     "output_type": "display_data"
    }
   ],
   "source": [
    "### Data exploration visualization \n",
    "\n",
    "import random\n",
    "import matplotlib.pyplot as plt\n",
    "\n",
    "%matplotlib inline\n",
    "\n",
    "index = random.randint(0, len(X_train))\n",
    "image = X_train[index].squeeze()\n",
    "print (X_train[index].shape)\n",
    "\n",
    "plt.figure(figsize=(1,1))\n",
    "plt.imshow(image)\n",
    "print(y_train[index])"
   ]
  },
  {
   "cell_type": "markdown",
   "metadata": {
    "deletable": true,
    "editable": true
   },
   "source": [
    "----\n",
    "\n",
    "## Step 2: Design and Test a Model Architecture\n",
    "\n",
    "Design and implement a deep learning model that learns to recognize traffic signs. Train and test your model on the [German Traffic Sign Dataset](http://benchmark.ini.rub.de/?section=gtsrb&subsection=dataset).\n",
    "\n",
    "There are various aspects to consider when thinking about this problem:\n",
    "\n",
    "- Neural network architecture\n",
    "- Play around preprocessing techniques (normalization, rgb to grayscale, etc)\n",
    "- Number of examples per label (some have more than others).\n",
    "- Generate fake data.\n",
    "\n",
    "Here is an example of a [published baseline model on this problem](http://yann.lecun.com/exdb/publis/pdf/sermanet-ijcnn-11.pdf). It's not required to be familiar with the approach used in the paper but, it's good practice to try to read papers like these.\n",
    "\n",
    "**NOTE:** The LeNet-5 implementation shown in the [classroom](https://classroom.udacity.com/nanodegrees/nd013/parts/fbf77062-5703-404e-b60c-95b78b2f3f9e/modules/6df7ae49-c61c-4bb2-a23e-6527e69209ec/lessons/601ae704-1035-4287-8b11-e2c2716217ad/concepts/d4aca031-508f-4e0b-b493-e7b706120f81) at the end of the CNN lesson is a solid starting point. You'll have to change the number of classes and possibly the preprocessing, but aside from that it's plug and play!"
   ]
  },
  {
   "cell_type": "markdown",
   "metadata": {
    "deletable": true,
    "editable": true
   },
   "source": [
    "### Implementation\n",
    "\n",
    "Use the code cell (or multiple code cells, if necessary) to implement the first step of your project. Once you have completed your implementation and are satisfied with the results, be sure to thoroughly answer the questions that follow."
   ]
  },
  {
   "cell_type": "code",
   "execution_count": 4,
   "metadata": {
    "collapsed": false,
    "deletable": true,
    "editable": true
   },
   "outputs": [
    {
     "ename": "ImportError",
     "evalue": "No module named 'tensorflow'",
     "output_type": "error",
     "traceback": [
      "\u001b[0;31m---------------------------------------------------------------------------\u001b[0m",
      "\u001b[0;31mImportError\u001b[0m                               Traceback (most recent call last)",
      "\u001b[0;32m<ipython-input-4-91ec72aeddb7>\u001b[0m in \u001b[0;36m<module>\u001b[0;34m()\u001b[0m\n\u001b[1;32m      3\u001b[0m \u001b[0;32mfrom\u001b[0m \u001b[0msklearn\u001b[0m\u001b[0;34m.\u001b[0m\u001b[0mutils\u001b[0m \u001b[0;32mimport\u001b[0m \u001b[0mshuffle\u001b[0m\u001b[0;34m\u001b[0m\u001b[0m\n\u001b[1;32m      4\u001b[0m \u001b[0;32mimport\u001b[0m \u001b[0mnumpy\u001b[0m \u001b[0;32mas\u001b[0m \u001b[0mnp\u001b[0m\u001b[0;34m\u001b[0m\u001b[0m\n\u001b[0;32m----> 5\u001b[0;31m \u001b[0;32mimport\u001b[0m \u001b[0mtensorflow\u001b[0m \u001b[0;32mas\u001b[0m \u001b[0mtf\u001b[0m\u001b[0;34m\u001b[0m\u001b[0m\n\u001b[0m\u001b[1;32m      6\u001b[0m \u001b[0;32mimport\u001b[0m \u001b[0mcv2\u001b[0m\u001b[0;34m\u001b[0m\u001b[0m\n\u001b[1;32m      7\u001b[0m \u001b[0;34m\u001b[0m\u001b[0m\n",
      "\u001b[0;31mImportError\u001b[0m: No module named 'tensorflow'"
     ]
    }
   ],
   "source": [
    "### Preprocess the data here.\n",
    "### Feel free to use as many code cells as needed.\n",
    "from sklearn.utils import shuffle\n",
    "import numpy as np\n",
    "import tensorflow as tf\n",
    "import cv2\n",
    "\n",
    "X_train, y_train = shuffle(X_train, y_train)\n",
    "#Make Look-up table for (0.5,1.5)\n",
    "def LTable(gamma) :   \n",
    "    invGamma = 1.0 / gamma\n",
    "    l_table = np.array([((i / 255.0) ** invGamma) * 255\n",
    "        for i in np.arange(0, 256)]).astype(\"uint8\")\n",
    "    return l_table\n",
    "#Generate dark/Brighten images and add them as another train data\n",
    "gam_05 = LTable(0.5)[X_train]\n",
    "gam_15 = LTable(1.5)[X_train]\n",
    "X_train = np.vstack((gam_05,X_train,gam_15))\n",
    "y_train = np.hstack((y_train,y_train,y_train))\n",
    "\n",
    "#Adding more data\n",
    "gr_X_train = np.dot(X_train, [0.299, 0.587, 0.114])\n",
    "r_X_train = X_train[...,0]\n",
    "g_X_train = X_train[...,1]\n",
    "b_X_train = X_train[...,2]\n",
    "X_train = np.vstack((gr_X_train,r_X_train,g_X_train,b_X_train))\n",
    "y_train = np.hstack((y_train,y_train,y_train,y_train))\n",
    "X_train = np.expand_dims((X_train),axis=3)"
   ]
  },
  {
   "cell_type": "markdown",
   "metadata": {
    "deletable": true,
    "editable": true
   },
   "source": [
    "### Question 1 \n",
    "\n",
    "_Describe how you preprocessed the data. Why did you choose that technique?_"
   ]
  },
  {
   "cell_type": "markdown",
   "metadata": {
    "deletable": true,
    "editable": true
   },
   "source": [
    "**Answer:**\n",
    "\n",
    "Idea : \n",
    "- More data can get good result with LeNet(with another CNN too)\n",
    "- but It requires to consider overfitting due to images are derived from original image\n",
    "- It is a supervised learning and all shapes of traffic signs are regulated by Government.\n",
    "   Therefore handling Gamma and decompositing RGB image to separate R,G,B images bring me less worry about overfitting.\n",
    "\n",
    "Please find the relation table between prepared data and it's accuracy with LeNet\n",
    "- Original : 0.968 \n",
    "- Grayscale : 0.975 \n",
    "- GrayScale + Normalization : 0.955 \n",
    "- GrayScale + R image + G Image + B Imgae : 0.989 \n",
    "- Original+Gamma corrected(0.5,1.5) -> Grayscale + R image + G Image + B Image : 0.993\n"
   ]
  },
  {
   "cell_type": "code",
   "execution_count": 5,
   "metadata": {
    "collapsed": false,
    "deletable": true,
    "editable": true
   },
   "outputs": [],
   "source": [
    "### Generate data additional data (OPTIONAL!)\n",
    "### and split the data into training/validation/testing sets here.\n",
    "from sklearn.model_selection import train_test_split\n",
    "\n",
    "X_train, X_validation, y_train, y_validation = train_test_split(X_train, y_train, test_size=0.4, random_state=0)\n",
    "\n",
    "EPOCHS = 60\n",
    "BATCH_SIZE = 768"
   ]
  },
  {
   "cell_type": "markdown",
   "metadata": {
    "deletable": true,
    "editable": true
   },
   "source": [
    "### Question 2\n",
    "\n",
    "_Describe how you set up the training, validation and testing data for your model. **Optional**: If you generated additional data, how did you generate the data? Why did you generate the data? What are the differences in the new dataset (with generated data) from the original dataset?_"
   ]
  },
  {
   "cell_type": "markdown",
   "metadata": {
    "deletable": true,
    "editable": true
   },
   "source": [
    "**Answer:**\n",
    "We usually divide our dataset into training and test(validation)set from 60:40 to 80:20 from experiences.\n",
    "From the rule of thumb with considering added generated data, I choose 60:40(With considering overfitting) and I tried with 80:20,70:30 and 60:40 and they brought similar accuracy with LeNet\n"
   ]
  },
  {
   "cell_type": "code",
   "execution_count": 6,
   "metadata": {
    "collapsed": false,
    "deletable": true,
    "editable": true
   },
   "outputs": [],
   "source": [
    "\n",
    "### Define your architecture here.\n",
    "### Feel free to use as many code cells as needed.\n",
    "from tensorflow.contrib.layers import flatten\n",
    "\n",
    "def LeNet(x):    \n",
    "    # Hyperparameters\n",
    "    mu = 0\n",
    "    sigma = 0.1\n",
    "    \n",
    "    # SOLUTION: Layer 1: Convolutional. Input = 32x32x1. Output = 28x28x6.\n",
    "    conv1_W = tf.Variable(tf.truncated_normal(shape=(9, 9, 1, 6), mean = mu, stddev = sigma))\n",
    "    conv1_b = tf.Variable(tf.zeros(6))\n",
    "    conv1   = tf.nn.conv2d(x, conv1_W, strides=[1, 1, 1, 1], padding='VALID') + conv1_b\n",
    "\n",
    "    # SOLUTION: Activation.\n",
    "    conv1 = tf.nn.relu(conv1)\n",
    "\n",
    "    # SOLUTION: Pooling. Input = 28x28x6. Output = 14x14x6.\n",
    "    conv1 = tf.nn.max_pool(conv1, ksize=[1, 2, 2, 1], strides=[1, 2, 2, 1], padding='VALID')\n",
    "\n",
    "    # SOLUTION: Layer 2: Convolutional. Output = 10x10x16.\n",
    "    conv2_W = tf.Variable(tf.truncated_normal(shape=(5, 5, 6, 16), mean = mu, stddev = sigma))\n",
    "    conv2_b = tf.Variable(tf.zeros(16))\n",
    "    conv2   = tf.nn.conv2d(conv1, conv2_W, strides=[1, 1, 1, 1], padding='VALID') + conv2_b\n",
    "    \n",
    "    # SOLUTION: Activation.\n",
    "    conv2 = tf.nn.relu(conv2)\n",
    "\n",
    "    # SOLUTION: Pooling. Input = 10x10x16. Output = 5x5x16.\n",
    "    conv2 = tf.nn.max_pool(conv2, ksize=[1, 2, 2, 1], strides=[1, 2, 2, 1], padding='VALID')\n",
    "\n",
    "    # SOLUTION: Flatten. Input = 5x5x16. Output = 400.\n",
    "    fc0   = flatten(conv2)\n",
    "    \n",
    "    # SOLUTION: Layer 3: Fully Connected. Input = 400. Output = 120.\n",
    "    fc1_W = tf.Variable(tf.truncated_normal(shape=(256, 120), mean = mu, stddev = sigma))\n",
    "    fc1_b = tf.Variable(tf.zeros(120))\n",
    "    fc1   = tf.matmul(fc0, fc1_W) + fc1_b\n",
    "    \n",
    "    # SOLUTION: Activation.\n",
    "    fc1    = tf.nn.relu(fc1)\n",
    "\n",
    "    # SOLUTION: Layer 4: Fully Connected. Input = 120. Output = 84.\n",
    "    fc2_W  = tf.Variable(tf.truncated_normal(shape=(120, 84), mean = mu, stddev = sigma))\n",
    "    fc2_b  = tf.Variable(tf.zeros(84))\n",
    "    fc2    = tf.matmul(fc1, fc2_W) + fc2_b\n",
    "    \n",
    "    # SOLUTION: Activation.\n",
    "    fc2    = tf.nn.relu(fc2)\n",
    "\n",
    "    # SOLUTION: Layer 5: Fully Connected. Input = 84. Output = 10.\n",
    "    fc3_W  = tf.Variable(tf.truncated_normal(shape=(84, n_classes), mean = mu, stddev = sigma))\n",
    "    fc3_b  = tf.Variable(tf.zeros(n_classes))\n",
    "    logits = tf.matmul(fc2, fc3_W) + fc3_b\n",
    "    \n",
    "    return logits\n",
    "\n",
    "def VGGNet(x):  \n",
    "    # Hyperparameters\n",
    "    mu = 0\n",
    "    sigma = 0.1\n",
    "    \n",
    "    #Layer 1 : Input:[32x32x1] output:[32x32x32]  32 filters\n",
    "    conv1_W = tf.Variable(tf.truncated_normal(shape=(3, 3, 1, 32), mean = mu, stddev = sigma))\n",
    "    conv1_b = tf.Variable(tf.zeros(32))\n",
    "    conv1   = tf.nn.conv2d(x, conv1_W, strides=[1, 1, 1, 1], padding='SAME') + conv1_b\n",
    "    # SOLUTION: Activation.\n",
    "    conv1 = tf.nn.relu(conv1)\n",
    "\n",
    "    #Layer 2 : Input:[32x32x32] output:[32x32x32]  32 filters\n",
    "    conv2_W = tf.Variable(tf.truncated_normal(shape=(3, 3, 32, 32), mean = mu, stddev = sigma))\n",
    "    conv2_b = tf.Variable(tf.zeros(32))\n",
    "    conv2   = tf.nn.conv2d(conv1, conv2_W, strides=[1, 1, 1, 1], padding='SAME') + conv2_b\n",
    "     # SOLUTION: Activation.\n",
    "    conv2 = tf.nn.relu(conv2)   \n",
    "     # SOLUTION: Pooling. Input = 32x32x32. Output = 16x16x32.\n",
    "    conv2 = tf.nn.max_pool(conv2, ksize=[1, 2, 2, 1], strides=[1, 2, 2, 1], padding='SAME')\n",
    "\n",
    "\n",
    "    #Layer 3 : Input:[16x16x32] output:[16x16x64]  64 filters\n",
    "    conv3_W = tf.Variable(tf.truncated_normal(shape=(3, 3, 32, 64), mean = mu, stddev = sigma))\n",
    "    conv3_b = tf.Variable(tf.zeros(64))\n",
    "    conv3   = tf.nn.conv2d(conv2, conv3_W, strides=[1, 1, 1, 1], padding='SAME') + conv3_b\n",
    "    # SOLUTION: Activation.\n",
    "    conv3 = tf.nn.relu(conv3)\n",
    "\n",
    "    #Layer 4 : Input:[16x16x64] output:[16x16x64]  64 filters\n",
    "    conv4_W = tf.Variable(tf.truncated_normal(shape=(3, 3, 64, 64), mean = mu, stddev = sigma))\n",
    "    conv4_b = tf.Variable(tf.zeros(64))\n",
    "    conv4   = tf.nn.conv2d(conv3, conv4_W, strides=[1, 1, 1, 1], padding='SAME') + conv4_b\n",
    "    # SOLUTION: Activation.\n",
    "    conv4 = tf.nn.relu(conv4)\n",
    "\n",
    "    # SOLUTION: Pooling. Input = 16x16x64. Output = 8x8x64.\n",
    "    conv4 = tf.nn.max_pool(conv4, ksize=[1, 2, 2, 1], strides=[1, 2, 2, 1], padding='SAME')\n",
    "\n",
    "    \n",
    "    #Layer 5 : Input:[8x8x64] output:[8x8x128]  128 filters\n",
    "    conv5_W = tf.Variable(tf.truncated_normal(shape=(3, 3, 64, 128), mean = mu, stddev = sigma))\n",
    "    conv5_b = tf.Variable(tf.zeros(128))\n",
    "    conv5   = tf.nn.conv2d(conv4, conv5_W, strides=[1, 1, 1, 1], padding='SAME') + conv5_b\n",
    "    # SOLUTION: Activation.\n",
    "    conv5 = tf.nn.relu(conv5)\n",
    "    \n",
    "    #Layer 6 : Input:[8x8x128] output:[8x8x128]  128 filters\n",
    "    conv6_W = tf.Variable(tf.truncated_normal(shape=(3, 3, 128, 128), mean = mu, stddev = sigma))\n",
    "    conv6_b = tf.Variable(tf.zeros(128))\n",
    "    conv6   = tf.nn.conv2d(conv5, conv6_W, strides=[1, 1, 1, 1], padding='SAME') + conv6_b\n",
    "    # SOLUTION: Activation.\n",
    "    conv6 = tf.nn.relu(conv6)\n",
    "    \n",
    "    #Layer 7 : Input:[8x8x128] output:[8x8x128]  128 filters\n",
    "    conv7_W = tf.Variable(tf.truncated_normal(shape=(3, 3, 128, 128), mean = mu, stddev = sigma))\n",
    "    conv7_b = tf.Variable(tf.zeros(128))\n",
    "    conv7   = tf.nn.conv2d(conv6, conv7_W, strides=[1, 1, 1, 1], padding='SAME') + conv7_b\n",
    "    # SOLUTION: Activation.\n",
    "    conv7 = tf.nn.relu(conv7)  \n",
    "    # SOLUTION: Pooling. Input = 8x8x64. Output = 4x4x128.\n",
    "    conv7 = tf.nn.max_pool(conv7, ksize=[1, 2, 2, 1], strides=[1, 2, 2, 1], padding='SAME')    \n",
    "    \n",
    "    # SOLUTION: Flatten. Input = 4x4x128. Output = 2048.\n",
    "    fc0   = flatten(conv7)\n",
    "    \n",
    "    # SOLUTION: Layer 8: Fully Connected. Input = 2048. Output = 2048.\n",
    "    fc1_W = tf.Variable(tf.truncated_normal(shape=(2048, 2048), mean = mu, stddev = sigma))\n",
    "    fc1_b = tf.Variable(tf.zeros(2048))\n",
    "    fc1   = tf.matmul(fc0, fc1_W) + fc1_b\n",
    "    \n",
    "    # SOLUTION: Activation.\n",
    "    fc1    = tf.nn.relu(fc1)\n",
    "    \n",
    "    fc1    = tf.nn.dropout(fc1,keep_prob)\n",
    "    # SOLUTION: Layer 9: Fully Connected. Input = 2048. Output = 2048.\n",
    "    fc2_W  = tf.Variable(tf.truncated_normal(shape=(2048, 2048), mean = mu, stddev = sigma))\n",
    "    fc2_b  = tf.Variable(tf.zeros(2048))\n",
    "    fc2    = tf.matmul(fc1, fc2_W) + fc2_b\n",
    "    \n",
    "    # SOLUTION: Activation.\n",
    "    fc2    = tf.nn.relu(fc2)\n",
    "\n",
    "    fc2    = tf.nn.dropout(fc2,keep_prob)\n",
    "        \n",
    "    # SOLUTION: Layer 10: Fully Connected. Input = 2048. Output = 10.\n",
    "    fc3_W  = tf.Variable(tf.truncated_normal(shape=(2048, n_classes), mean = mu, stddev = sigma))\n",
    "    fc3_b  = tf.Variable(tf.zeros(n_classes))\n",
    "    logits = tf.matmul(fc2, fc3_W) + fc3_b\n",
    "    \n",
    "    return logits"
   ]
  },
  {
   "cell_type": "markdown",
   "metadata": {
    "deletable": true,
    "editable": true
   },
   "source": [
    "### Question 3\n",
    "\n",
    "_What does your final architecture look like? (Type of model, layers, sizes, connectivity, etc.)  For reference on how to build a deep neural network using TensorFlow, see [Deep Neural Network in TensorFlow\n",
    "](https://classroom.udacity.com/nanodegrees/nd013/parts/fbf77062-5703-404e-b60c-95b78b2f3f9e/modules/6df7ae49-c61c-4bb2-a23e-6527e69209ec/lessons/b516a270-8600-4f93-a0a3-20dfeabe5da6/concepts/83a3a2a2-a9bd-4b7b-95b0-eb924ab14432) from the classroom._\n"
   ]
  },
  {
   "cell_type": "markdown",
   "metadata": {
    "deletable": true,
    "editable": true
   },
   "source": [
    "**Answer:**\n",
    "My model is based on VGGNet. But We are treating small sized image. So, I made a kind of short version. kernel size is 3x3 and 7 convolution layers and 3 Fully Connected layers used. \n",
    "Layers are connected like following : \n",
    "- Conv -> reLU -> Conv -> reLU -> Resampling(Max-Pooling) -> Conv -> reLU -> Conv -> reLU -> Resampling(Max-Pooling) -> Conv -> reLU -> Conv -> reLU -> Resampling(Max-Pooling) -> FC(Fully Connected) -> Dropout -> FC -> Dropout -> FC"
   ]
  },
  {
   "cell_type": "code",
   "execution_count": null,
   "metadata": {
    "collapsed": false,
    "deletable": true,
    "editable": true,
    "scrolled": false
   },
   "outputs": [
    {
     "name": "stdout",
     "output_type": "stream",
     "text": [
      "Training...\n",
      "\n",
      "EPOCH 1 ...\n",
      "Validation Accuracy = 0.063\n",
      "\n",
      "EPOCH 2 ...\n",
      "Validation Accuracy = 0.063\n",
      "\n",
      "EPOCH 3 ...\n",
      "Validation Accuracy = 0.073\n",
      "\n",
      "EPOCH 4 ...\n",
      "Validation Accuracy = 0.106\n",
      "\n",
      "EPOCH 5 ...\n",
      "Validation Accuracy = 0.190\n",
      "\n",
      "EPOCH 6 ...\n",
      "Validation Accuracy = 0.334\n",
      "\n",
      "EPOCH 7 ...\n",
      "Validation Accuracy = 0.482\n",
      "\n",
      "EPOCH 8 ...\n",
      "Validation Accuracy = 0.640\n",
      "\n",
      "EPOCH 9 ...\n",
      "Validation Accuracy = 0.747\n",
      "\n",
      "EPOCH 10 ...\n",
      "Validation Accuracy = 0.846\n",
      "\n",
      "EPOCH 11 ...\n",
      "Validation Accuracy = 0.894\n",
      "\n",
      "EPOCH 12 ...\n",
      "Validation Accuracy = 0.916\n",
      "\n",
      "EPOCH 13 ...\n",
      "Validation Accuracy = 0.938\n",
      "\n",
      "EPOCH 14 ...\n",
      "Validation Accuracy = 0.948\n",
      "\n",
      "EPOCH 15 ...\n",
      "Validation Accuracy = 0.955\n",
      "\n",
      "EPOCH 16 ...\n",
      "Validation Accuracy = 0.965\n",
      "\n",
      "EPOCH 17 ...\n",
      "Validation Accuracy = 0.972\n",
      "\n",
      "EPOCH 18 ...\n",
      "Validation Accuracy = 0.974\n",
      "\n",
      "EPOCH 19 ...\n",
      "Validation Accuracy = 0.977\n",
      "\n",
      "EPOCH 20 ...\n",
      "Validation Accuracy = 0.983\n",
      "\n",
      "EPOCH 21 ...\n",
      "Validation Accuracy = 0.983\n",
      "\n",
      "EPOCH 22 ...\n",
      "Validation Accuracy = 0.986\n",
      "\n",
      "EPOCH 23 ...\n",
      "Validation Accuracy = 0.986\n",
      "\n",
      "EPOCH 24 ...\n",
      "Validation Accuracy = 0.986\n",
      "\n",
      "EPOCH 25 ...\n",
      "Validation Accuracy = 0.979\n",
      "\n",
      "EPOCH 26 ...\n",
      "Validation Accuracy = 0.990\n",
      "\n",
      "EPOCH 27 ...\n",
      "Validation Accuracy = 0.989\n",
      "\n",
      "EPOCH 28 ...\n",
      "Validation Accuracy = 0.987\n",
      "\n",
      "EPOCH 29 ...\n",
      "Validation Accuracy = 0.990\n",
      "\n",
      "EPOCH 30 ...\n",
      "Validation Accuracy = 0.991\n",
      "\n",
      "EPOCH 31 ...\n",
      "Validation Accuracy = 0.992\n",
      "\n",
      "EPOCH 32 ...\n",
      "Validation Accuracy = 0.988\n",
      "\n",
      "EPOCH 33 ...\n",
      "Validation Accuracy = 0.992\n",
      "\n",
      "EPOCH 34 ...\n",
      "Validation Accuracy = 0.990\n",
      "\n",
      "EPOCH 35 ...\n",
      "Validation Accuracy = 0.992\n",
      "\n",
      "EPOCH 36 ...\n",
      "Validation Accuracy = 0.994\n",
      "\n",
      "EPOCH 37 ...\n",
      "Validation Accuracy = 0.989\n",
      "\n",
      "EPOCH 38 ...\n",
      "Validation Accuracy = 0.992\n",
      "\n"
     ]
    }
   ],
   "source": [
    "### Train your model here.\n",
    "### Feel free to use as many code cells as needed.\n",
    "## Feature and Labels\n",
    "x = tf.placeholder(tf.float32, (None, 32, 32, 1))\n",
    "y = tf.placeholder(tf.int32, (None))\n",
    "keep_prob = tf.placeholder(tf.float32)\n",
    "one_hot_y = tf.one_hot(y, n_classes)\n",
    "\n",
    "##Training Pipeline\n",
    "rate = 0.001\n",
    "\n",
    "#logits = LeNet(x)\n",
    "logits = VGGNet(x)\n",
    "cross_entropy = tf.nn.softmax_cross_entropy_with_logits(logits, one_hot_y)\n",
    "loss_operation = tf.reduce_mean(cross_entropy)\n",
    "optimizer = tf.train.AdamOptimizer(learning_rate = rate)\n",
    "training_operation = optimizer.minimize(loss_operation)\n",
    "\n",
    "## Model Evaluation\n",
    "correct_prediction = tf.equal(tf.argmax(logits, 1), tf.argmax(one_hot_y, 1))\n",
    "accuracy_operation = tf.reduce_mean(tf.cast(correct_prediction, tf.float32))\n",
    "saver = tf.train.Saver()\n",
    "\n",
    "def evaluate(X_data, y_data, k_data):\n",
    "    num_examples = len(X_data)\n",
    "    total_accuracy = 0\n",
    "    sess = tf.get_default_session()\n",
    "    for offset in range(0, num_examples, BATCH_SIZE):\n",
    "        batch_x, batch_y = X_data[offset:offset+BATCH_SIZE], y_data[offset:offset+BATCH_SIZE]\n",
    "        accuracy = sess.run(accuracy_operation, feed_dict={x: batch_x, y: batch_y, keep_prob: k_data})\n",
    "        total_accuracy += (accuracy * len(batch_x))\n",
    "    return total_accuracy / num_examples\n",
    "\n",
    "## Train Model\n",
    "with tf.Session() as sess:\n",
    "    sess.run(tf.global_variables_initializer())\n",
    "    num_examples = len(X_train)\n",
    "    \n",
    "    print(\"Training...\")\n",
    "    print()\n",
    "    for i in range(EPOCHS):\n",
    "        X_train, y_train = shuffle(X_train, y_train)\n",
    "        for offset in range(0, num_examples, BATCH_SIZE):\n",
    "            end = offset + BATCH_SIZE\n",
    "            batch_x, batch_y = X_train[offset:end], y_train[offset:end]\n",
    "            sess.run(training_operation, feed_dict={x: batch_x, y: batch_y, keep_prob: 0.5})\n",
    "            \n",
    "        validation_accuracy = evaluate(X_validation, y_validation, 1.0)\n",
    "        print(\"EPOCH {} ...\".format(i+1))\n",
    "        print(\"Validation Accuracy = {:.3f}\".format(validation_accuracy))\n",
    "        print()\n",
    "        \n",
    "    ## Test Model\n",
    "    test_accuracy = evaluate(np.expand_dims(np.dot(X_test, [0.299, 0.587, 0.114]), axis=3),y_test,1.0)\n",
    "    print(\"Test Accuracy = {:.3f}\".format(test_accuracy))\n",
    "    \n",
    "    saver.save(sess, 'vggnet_100')\n",
    "    print(\"Model saved\")"
   ]
  },
  {
   "cell_type": "markdown",
   "metadata": {
    "deletable": true,
    "editable": true
   },
   "source": [
    "### Question 4\n",
    "\n",
    "_How did you train your model? (Type of optimizer, batch size, epochs, hyperparameters, etc.)_\n"
   ]
  },
  {
   "cell_type": "markdown",
   "metadata": {
    "deletable": true,
    "editable": true
   },
   "source": [
    "**Answer:**\n",
    "\n",
    " With small batch size with 100+ epochs went to sudden low accuracies. So, I set 768, relatively high number for batch size.\n",
    "Epochs is set as 100. I tested several numbers for epoch. 100 Epochs show me significant result(with many times). and for hyperparameters, I just use same value for LeNet which is given for initial model. Usually, Small Gaussian random weight works well for most of cases. So, I keep mu=0, sigma=0.1 for hyperparameters "
   ]
  },
  {
   "cell_type": "markdown",
   "metadata": {
    "deletable": true,
    "editable": true
   },
   "source": [
    "### Question 5\n",
    "\n",
    "\n",
    "_What approach did you take in coming up with a solution to this problem? It may have been a process of trial and error, in which case, outline the steps you took to get to the final solution and why you chose those steps. Perhaps your solution involved an already well known implementation or architecture. In this case, discuss why you think this is suitable for the current problem._"
   ]
  },
  {
   "cell_type": "markdown",
   "metadata": {
    "deletable": true,
    "editable": true
   },
   "source": [
    "**Answer:**\n",
    "\n",
    "I established several strategies before starting Project 2.\n",
    "- Enough Preprocessing & enough size of data with adding more data using image processing to mimic various real environments(differemt sun lights..)\n",
    "- Go Deep and enough epochs\n",
    "- Use simple but verified model. and better performace than LeNet\n",
    "\n",
    "For preprocessing, First I tried following approaches to have better accuracy with LeNet\n",
    "- Original : 0.968 \n",
    "- Grayscale : 0.975 \n",
    "- GrayScale + Normalization : 0.955 \n",
    "- GrayScale + R image + G Image + B Imgae : 0.989 \n",
    "- Original+Gamma corrected(0.5,1.5) -> Grayscale + R image + G Image + B Image : 0.993\n",
    "So, I choose Original+Gamma corrected(0.5,1.5) -> Grayscale + R image + G Image + B Image\n",
    "\n",
    "For model, I decided to search some simple and well-known model for my CNN than adding more hidden layes on Base LeNet. and I found VGGNet and GoogLeNet for my project. GoogLeNet is using inception module and relatively more complex than VGGNet and more cost for development too. So, I choose VGGNet for my project.\n",
    "\n",
    "I ran VGGNet model with and without dropout to know the effectiveness of dropout. Without dropout, shows me more good result. But, I use VGGNet with dropout. I think even if without-dropout gives me more good accuracy with test data, With-dropout will give me good result with real data. Because it is more generalized."
   ]
  },
  {
   "cell_type": "markdown",
   "metadata": {
    "deletable": true,
    "editable": true
   },
   "source": [
    "---\n",
    "\n",
    "## Step 3: Test a Model on New Images\n",
    "\n",
    "Take several pictures of traffic signs that you find on the web or around you (at least five), and run them through your classifier on your computer to produce example results. The classifier might not recognize some local signs but it could prove interesting nonetheless.\n",
    "\n",
    "You may find `signnames.csv` useful as it contains mappings from the class id (integer) to the actual sign name."
   ]
  },
  {
   "cell_type": "markdown",
   "metadata": {
    "deletable": true,
    "editable": true
   },
   "source": [
    "### Implementation\n",
    "\n",
    "Use the code cell (or multiple code cells, if necessary) to implement the first step of your project. Once you have completed your implementation and are satisfied with the results, be sure to thoroughly answer the questions that follow."
   ]
  },
  {
   "cell_type": "code",
   "execution_count": 8,
   "metadata": {
    "collapsed": false,
    "deletable": true,
    "editable": true
   },
   "outputs": [
    {
     "name": "stdout",
     "output_type": "stream",
     "text": [
      "(5, 32, 32, 3)\n",
      "(32, 32, 3)\n"
     ]
    },
    {
     "data": {
      "text/plain": [
       "<matplotlib.image.AxesImage at 0x7f563d6d4828>"
      ]
     },
     "execution_count": 8,
     "metadata": {},
     "output_type": "execute_result"
    },
    {
     "data": {
      "image/png": "[encoded data removed]",
      "text/plain": [
       "<matplotlib.figure.Figure at 0x7f56f401b550>"
      ]
     },
     "metadata": {},
     "output_type": "display_data"
    }
   ],
   "source": [
    "### Load the images and plot them here.\n",
    "import random\n",
    "import matplotlib.pyplot as plt\n",
    "import matplotlib.image as img\n",
    "\n",
    "X_img = []\n",
    "X_img.append(img.imread('/home/jerome/DS_Works/CarND-Traffic-Sign-Classifier-Project/images/2_Cake.png')[...,:3])\n",
    "X_img.append(img.imread('/home/jerome/DS_Works/CarND-Traffic-Sign-Classifier-Project/images/3_Speed60.png')[...,:3])\n",
    "X_img.append(img.imread('/home/jerome/DS_Works/CarND-Traffic-Sign-Classifier-Project/images/15_NoVehicle.png')[...,:3])\n",
    "X_img.append(img.imread('/home/jerome/DS_Works/CarND-Traffic-Sign-Classifier-Project/images/7_Speed100.png')[...,:3])\n",
    "X_img.append(img.imread('/home/jerome/DS_Works/CarND-Traffic-Sign-Classifier-Project/images/5_Speed80.png')[...,:3])\n",
    "\n",
    "X_img = np.array(X_img)\n",
    "print (X_img.shape)\n",
    "\n",
    "%matplotlib inline\n",
    "\n",
    "# Cake shapes like 50km/h Speed limit\n",
    "image = X_img[0].squeeze()\n",
    "print (X_img[0].shape)\n",
    "\n",
    "plt.figure(figsize=(1,1))\n",
    "plt.imshow(image)"
   ]
  },
  {
   "cell_type": "code",
   "execution_count": 9,
   "metadata": {
    "collapsed": false,
    "deletable": true,
    "editable": true
   },
   "outputs": [
    {
     "name": "stdout",
     "output_type": "stream",
     "text": [
      "(32, 32, 3)\n"
     ]
    },
    {
     "data": {
      "text/plain": [
       "<matplotlib.image.AxesImage at 0x7f563d6f1128>"
      ]
     },
     "execution_count": 9,
     "metadata": {},
     "output_type": "execute_result"
    },
    {
     "data": {
      "image/png": "[encoded data removed]",
      "text/plain": [
       "<matplotlib.figure.Figure at 0x7f56683295c0>"
      ]
     },
     "metadata": {},
     "output_type": "display_data"
    }
   ],
   "source": [
    "# Light type of 60km/h Speed limit\n",
    "image = X_img[1].squeeze()\n",
    "print (X_img[1].shape)\n",
    "\n",
    "plt.figure(figsize=(1,1))\n",
    "plt.imshow(image)"
   ]
  },
  {
   "cell_type": "code",
   "execution_count": 10,
   "metadata": {
    "collapsed": false,
    "deletable": true,
    "editable": true
   },
   "outputs": [
    {
     "name": "stdout",
     "output_type": "stream",
     "text": [
      "(32, 32, 3)\n"
     ]
    },
    {
     "data": {
      "text/plain": [
       "<matplotlib.image.AxesImage at 0x7f559837bc18>"
      ]
     },
     "execution_count": 10,
     "metadata": {},
     "output_type": "execute_result"
    },
    {
     "data": {
      "image/png": "[encoded data removed]",
      "text/plain": [
       "<matplotlib.figure.Figure at 0x7f563d70f160>"
      ]
     },
     "metadata": {},
     "output_type": "display_data"
    }
   ],
   "source": [
    "# No Vehicle Sign with Scribbling\n",
    "image = X_img[2].squeeze()\n",
    "print (X_img[2].shape)\n",
    "\n",
    "plt.figure(figsize=(1,1))\n",
    "plt.imshow(image)"
   ]
  },
  {
   "cell_type": "code",
   "execution_count": 11,
   "metadata": {
    "collapsed": false,
    "deletable": true,
    "editable": true
   },
   "outputs": [
    {
     "name": "stdout",
     "output_type": "stream",
     "text": [
      "(32, 32, 3)\n"
     ]
    },
    {
     "data": {
      "text/plain": [
       "<matplotlib.image.AxesImage at 0x7f563d6886a0>"
      ]
     },
     "execution_count": 11,
     "metadata": {},
     "output_type": "execute_result"
    },
    {
     "data": {
      "image/png": "[encoded data removed]",
      "text/plain": [
       "<matplotlib.figure.Figure at 0x7f5668379fd0>"
      ]
     },
     "metadata": {},
     "output_type": "display_data"
    }
   ],
   "source": [
    "# different type of 100km/h Speed limit\n",
    "image = X_img[3].squeeze()\n",
    "print (X_img[3].shape)\n",
    "\n",
    "plt.figure(figsize=(1,1))\n",
    "plt.imshow(image)"
   ]
  },
  {
   "cell_type": "code",
   "execution_count": 12,
   "metadata": {
    "collapsed": false,
    "deletable": true,
    "editable": true
   },
   "outputs": [
    {
     "name": "stdout",
     "output_type": "stream",
     "text": [
      "(32, 32, 3)\n"
     ]
    },
    {
     "data": {
      "text/plain": [
       "<matplotlib.image.AxesImage at 0x7f563de31208>"
      ]
     },
     "execution_count": 12,
     "metadata": {},
     "output_type": "execute_result"
    },
    {
     "data": {
      "image/png": "[encoded data removed]",
      "text/plain": [
       "<matplotlib.figure.Figure at 0x7f563d69e978>"
      ]
     },
     "metadata": {},
     "output_type": "display_data"
    }
   ],
   "source": [
    "# Square type of Ahead Only\n",
    "image = X_img[4].squeeze()\n",
    "print (X_img[4].shape)\n",
    "\n",
    "plt.figure(figsize=(1,1))\n",
    "plt.imshow(image)"
   ]
  },
  {
   "cell_type": "markdown",
   "metadata": {
    "deletable": true,
    "editable": true
   },
   "source": [
    "### Question 6\n",
    "\n",
    "_Choose five candidate images of traffic signs and provide them in the report. Are there any particular qualities of the image(s) that might make classification difficult? It could be helpful to plot the images in the notebook._\n",
    "\n"
   ]
  },
  {
   "cell_type": "markdown",
   "metadata": {
    "deletable": true,
    "editable": true
   },
   "source": [
    "**Answer:**\n",
    "\n",
    "\"No Vehicle Sign with Scribbling\" will be difficult for classification. It has a big scribbing on No Vehicle Sign.\n"
   ]
  },
  {
   "cell_type": "code",
   "execution_count": 13,
   "metadata": {
    "collapsed": false,
    "deletable": true,
    "editable": true
   },
   "outputs": [],
   "source": [
    "### Run the predictions here.\n",
    "sess = tf.Session()\n",
    "new_saver = tf.train.import_meta_graph('vggnet_100.meta')\n",
    "new_saver.restore(sess, tf.train.latest_checkpoint('./'))\n"
   ]
  },
  {
   "cell_type": "code",
   "execution_count": 14,
   "metadata": {
    "collapsed": false,
    "deletable": true,
    "editable": true,
    "scrolled": true
   },
   "outputs": [
    {
     "name": "stdout",
     "output_type": "stream",
     "text": [
      "[17  3  9  9  9]\n"
     ]
    }
   ],
   "source": [
    "predictions = sess.run(tf.argmax(tf.nn.softmax(logits),1), feed_dict={x:np.expand_dims(np.dot(X_img, [0.299, 0.587, 0.114]), axis=3), keep_prob: 1.0})\n",
    "print (predictions)"
   ]
  },
  {
   "cell_type": "markdown",
   "metadata": {
    "deletable": true,
    "editable": true
   },
   "source": [
    "### Question 7\n",
    "\n",
    "_Is your model able to perform equally well on captured pictures when compared to testing on the dataset? The simplest way to do this check the accuracy of the predictions. For example, if the model predicted 1 out of 5 signs correctly, it's 20% accurate._\n",
    "\n",
    "_**NOTE:** You could check the accuracy manually by using `signnames.csv` (same directory). This file has a mapping from the class id (0-42) to the corresponding sign name. So, you could take the class id the model outputs, lookup the name in `signnames.csv` and see if it matches the sign from the image._\n"
   ]
  },
  {
   "cell_type": "markdown",
   "metadata": {
    "deletable": true,
    "editable": true
   },
   "source": [
    "**Answer:**\n",
    "\n",
    "It's 20% accurate. 1 of them are matched correctly. I collected some difficult images. It looks I should find another way to improve. More data or more deep neural network. and a way to prevent wrong decision from scribbling on sign. I will improve through SDCND course."
   ]
  },
  {
   "cell_type": "code",
   "execution_count": 18,
   "metadata": {
    "collapsed": false,
    "deletable": true,
    "editable": true
   },
   "outputs": [
    {
     "name": "stdout",
     "output_type": "stream",
     "text": [
      "[[  1.13325641e-05   1.39820040e-03   1.27343843e-02   5.18362336e-02\n",
      "    2.70352103e-02   8.42470467e-01   4.12305496e-07   3.94229479e-02\n",
      "    2.12529339e-02   1.66840793e-04   3.27097182e-03   2.02929840e-07\n",
      "    1.43000425e-05   3.16831538e-05   1.60157981e-06   3.32699092e-05\n",
      "    2.43120176e-05   4.83553322e-07   5.97008193e-06   3.58183888e-06\n",
      "    1.67044425e-06   2.63304600e-09   5.69860461e-08   3.54097693e-08\n",
      "    5.40621592e-09   4.04474631e-05   2.31167978e-05   2.24974217e-09\n",
      "    2.30008411e-07   1.57225186e-05   6.58172780e-07   5.97428016e-06\n",
      "    7.31211314e-09   5.61594934e-05   3.94460017e-07   5.64731181e-06\n",
      "    2.31551542e-08   9.62206954e-08   7.45846182e-06   2.86717859e-05\n",
      "    9.82756756e-05   5.14423004e-10   4.40758596e-10]\n",
      " [  3.25450811e-15   9.39406419e-09   1.22029269e-06   9.99968410e-01\n",
      "    5.10946450e-08   2.73283313e-05   1.08024058e-11   1.60031585e-10\n",
      "    6.44406889e-11   2.10007883e-07   1.25318345e-09   3.42393214e-12\n",
      "    1.81850077e-10   8.13633871e-09   9.19159401e-11   7.54379361e-13\n",
      "    1.18788156e-11   2.03676984e-12   6.71461428e-11   6.04741368e-10\n",
      "    1.99318999e-11   1.12239145e-16   1.59218359e-14   4.54433346e-14\n",
      "    6.98244887e-16   2.69176167e-06   1.17618790e-10   6.42243505e-15\n",
      "    2.02779737e-11   1.51645907e-09   8.60350853e-13   1.68088824e-11\n",
      "    5.95848537e-10   1.24239143e-11   9.93416183e-11   3.71442849e-10\n",
      "    1.85309389e-11   1.76071333e-14   3.85785590e-08   7.55007723e-11\n",
      "    3.30324190e-09   5.55325066e-14   1.62319306e-18]\n",
      " [  4.36164783e-06   9.44507048e-02   3.23544024e-04   5.49632008e-04\n",
      "    2.27631792e-01   6.55179799e-01   1.73326180e-06   2.03571486e-04\n",
      "    1.07890322e-04   1.00425538e-03   1.33691030e-03   1.08899235e-06\n",
      "    7.72613112e-06   2.24804317e-05   8.29190467e-05   6.97728467e-07\n",
      "    6.60805881e-07   1.33328183e-06   9.23185216e-05   2.97228427e-04\n",
      "    2.15364935e-07   1.27736826e-07   3.11906035e-07   1.85379196e-08\n",
      "    9.80324444e-07   1.74738429e-02   5.00713941e-04   1.04958289e-07\n",
      "    2.53909676e-08   1.42090039e-06   8.47920489e-09   4.48598948e-05\n",
      "    2.20897162e-10   3.43581807e-04   3.35491933e-07   9.44307158e-06\n",
      "    4.82580020e-08   7.79526817e-05   1.15142175e-05   5.55148836e-05\n",
      "    1.78289527e-04   1.22680577e-09   3.42094104e-08]\n",
      " [  4.71900421e-07   7.99570480e-05   5.35162326e-05   7.59178028e-03\n",
      "    9.51872647e-01   1.71427540e-02   4.40713029e-06   2.43644274e-04\n",
      "    6.58799763e-05   2.81290221e-03   1.50637992e-03   1.61908008e-06\n",
      "    3.34490687e-05   1.50602587e-04   4.98185000e-06   2.30981826e-07\n",
      "    5.36411881e-06   2.12887080e-05   1.71270251e-04   1.51391923e-02\n",
      "    7.15039505e-06   8.04117590e-08   2.43655990e-07   1.66662830e-05\n",
      "    1.91734628e-07   2.87258788e-03   6.06889298e-05   9.27959434e-07\n",
      "    5.14263604e-07   3.33172466e-06   3.29253180e-06   1.26067680e-05\n",
      "    3.03343946e-08   2.32101393e-05   2.87607719e-07   1.02050421e-06\n",
      "    6.85340211e-08   4.47946803e-07   6.85609339e-05   6.09343306e-06\n",
      "    1.93105243e-05   1.49724926e-07   4.22296553e-09]\n",
      " [  4.64095137e-07   1.75395893e-04   4.99623047e-06   3.05402698e-03\n",
      "    9.17418242e-01   7.10022673e-02   1.35177606e-06   7.75857188e-05\n",
      "    8.87836359e-05   3.87203600e-03   4.38432908e-04   7.21628226e-07\n",
      "    2.79551859e-05   2.59571592e-04   4.69202496e-06   2.07303742e-07\n",
      "    1.06435652e-06   3.20499964e-08   3.12042353e-03   4.39811920e-05\n",
      "    6.26632657e-09   5.97781167e-08   1.00066497e-08   3.66601647e-08\n",
      "    1.01297633e-06   1.01931313e-04   2.56873464e-05   6.11648454e-10\n",
      "    2.93346943e-07   6.20619346e-07   1.40654981e-08   4.47821407e-07\n",
      "    5.66553169e-08   7.58376118e-05   1.26136435e-08   2.17710954e-06\n",
      "    4.02495504e-09   8.89774810e-07   6.97976475e-06   1.89390455e-04\n",
      "    2.25967915e-06   1.19384752e-10   2.55472727e-08]]\n",
      "TopKV2(values=array([[  8.42470467e-01,   5.18362336e-02,   3.94229479e-02,\n",
      "          2.70352103e-02,   2.12529339e-02],\n",
      "       [  9.99968410e-01,   2.73283313e-05,   2.69176167e-06,\n",
      "          1.22029269e-06,   2.10007883e-07],\n",
      "       [  6.55179799e-01,   2.27631792e-01,   9.44507048e-02,\n",
      "          1.74738429e-02,   1.33691030e-03],\n",
      "       [  9.51872647e-01,   1.71427540e-02,   1.51391923e-02,\n",
      "          7.59178028e-03,   2.87258788e-03],\n",
      "       [  9.17418242e-01,   7.10022673e-02,   3.87203600e-03,\n",
      "          3.12042353e-03,   3.05402698e-03]], dtype=float32), indices=array([[ 5,  3,  7,  4,  8],\n",
      "       [ 3,  5, 25,  2,  9],\n",
      "       [ 5,  4,  1, 25, 10],\n",
      "       [ 4,  5, 19,  3, 25],\n",
      "       [ 4,  5,  9, 18,  3]], dtype=int32))\n"
     ]
    }
   ],
   "source": [
    "### Visualize the softmax probabilities here.\n",
    "softmax_prob = sess.run(tf.nn.softmax(logits), feed_dict={x:np.expand_dims(np.dot(X_img, [0.299, 0.587, 0.114]), axis=3), keep_prob: 1.0})\n",
    "print (softmax_prob)\n",
    "print (sess.run(tf.nn.top_k(tf.constant(softmax_prob), k=5)))"
   ]
  },
  {
   "cell_type": "markdown",
   "metadata": {
    "deletable": true,
    "editable": true
   },
   "source": [
    "### Question 8\n",
    "\n",
    "*Use the model's softmax probabilities to visualize the **certainty** of its predictions, [`tf.nn.top_k`](https://www.tensorflow.org/versions/r0.12/api_docs/python/nn.html#top_k) could prove helpful here. Which predictions is the model certain of? Uncertain? If the model was incorrect in its initial prediction, does the correct prediction appear in the top k? (k should be 5 at most)*\n",
    "\n",
    "`tf.nn.top_k` will return the values and indices (class ids) of the top k predictions. So if k=3, for each sign, it'll return the 3 largest probabilities (out of a possible 43) and the correspoding class ids.\n",
    "\n",
    "Take this numpy array as an example:\n",
    "\n",
    "```\n",
    "# (5, 6) array\n",
    "a = np.array([[ 0.24879643,  0.07032244,  0.12641572,  0.34763842,  0.07893497,\n",
    "         0.12789202],\n",
    "       [ 0.28086119,  0.27569815,  0.08594638,  0.0178669 ,  0.18063401,\n",
    "         0.15899337],\n",
    "       [ 0.26076848,  0.23664738,  0.08020603,  0.07001922,  0.1134371 ,\n",
    "         0.23892179],\n",
    "       [ 0.11943333,  0.29198961,  0.02605103,  0.26234032,  0.1351348 ,\n",
    "         0.16505091],\n",
    "       [ 0.09561176,  0.34396535,  0.0643941 ,  0.16240774,  0.24206137,\n",
    "         0.09155967]])\n",
    "```\n",
    "\n",
    "Running it through `sess.run(tf.nn.top_k(tf.constant(a), k=3))` produces:\n",
    "\n",
    "```\n",
    "TopKV2(values=array([[ 0.34763842,  0.24879643,  0.12789202],\n",
    "       [ 0.28086119,  0.27569815,  0.18063401],\n",
    "       [ 0.26076848,  0.23892179,  0.23664738],\n",
    "       [ 0.29198961,  0.26234032,  0.16505091],\n",
    "       [ 0.34396535,  0.24206137,  0.16240774]]), indices=array([[3, 0, 5],\n",
    "       [0, 1, 4],\n",
    "       [0, 5, 1],\n",
    "       [1, 3, 5],\n",
    "       [1, 4, 3]], dtype=int32))\n",
    "```\n",
    "\n",
    "Looking just at the first row we get `[ 0.34763842,  0.24879643,  0.12789202]`, you can confirm these are the 3 largest probabilities in `a`. You'll also notice `[3, 0, 5]` are the corresponding indices."
   ]
  },
  {
   "cell_type": "markdown",
   "metadata": {
    "deletable": true,
    "editable": true
   },
   "source": [
    "**Answer:**\n",
    "\n",
    "No correct predictions. But, with Several trials, No.5 image has correct prediction on 1st~3rd large probabilities. and it is most normal image of which I used for project. No.1 and No.4 images have correct predicton on 4th or 5th. That images have different thickness of red circle and number(Because it is a cake!) or a bit shewed image due to position of camera. No. 2 and No. 3 aren't shown in top 5. They are most difficult images. LED traffic sign and traffic sign with scribbling. But Human can recognize them pretty well. So, It will be a point to be improved."
   ]
  },
  {
   "cell_type": "markdown",
   "metadata": {
    "deletable": true,
    "editable": true
   },
   "source": [
    "> **Note**: Once you have completed all of the code implementations and successfully answered each question above, you may finalize your work by exporting the iPython Notebook as an HTML document. You can do this by using the menu above and navigating to  \\n\",\n",
    "    \"**File -> Download as -> HTML (.html)**. Include the finished document along with this notebook as your submission."
   ]
  }
 ],
 "metadata": {
  "anaconda-cloud": {},
  "kernelspec": {
   "display_name": "Python 3",
   "language": "python",
   "name": "python3"
  },
  "language_info": {
   "codemirror_mode": {
    "name": "ipython",
    "version": 3
   },
   "file_extension": ".py",
   "mimetype": "text/x-python",
   "name": "python",
   "nbconvert_exporter": "python",
   "pygments_lexer": "ipython3",
   "version": "3.5.2"
  }
 },
 "nbformat": 4,
 "nbformat_minor": 1
}
